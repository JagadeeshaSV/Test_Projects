{
 "cells": [
  {
   "cell_type": "code",
   "execution_count": 1,
   "metadata": {},
   "outputs": [],
   "source": [
    "# dataset source\n",
    "# https://www.kaggle.com/c/si650winter11/data"
   ]
  },
  {
   "cell_type": "code",
   "execution_count": 2,
   "metadata": {},
   "outputs": [
    {
     "name": "stderr",
     "output_type": "stream",
     "text": [
      "Using TensorFlow backend.\n"
     ]
    }
   ],
   "source": [
    "import keras\n",
    "import pandas as pd\n",
    "import os\n",
    "import re\n",
    "import numpy as np\n",
    "import matplotlib.pyplot as plt\n",
    "%matplotlib inline"
   ]
  },
  {
   "cell_type": "code",
   "execution_count": 3,
   "metadata": {},
   "outputs": [],
   "source": [
    "# Read the training data\n",
    "train_df = pd.read_csv('binary_sentiment_analysis_training.txt', sep='\\t', names=['sentiment', 'sentence'])"
   ]
  },
  {
   "cell_type": "code",
   "execution_count": 4,
   "metadata": {},
   "outputs": [
    {
     "name": "stdout",
     "output_type": "stream",
     "text": [
      "(6918, 3)\n"
     ]
    }
   ],
   "source": [
    "# print training data shape\n",
    "train_df['int_word_vector'] = None\n",
    "print(train_df.shape)"
   ]
  },
  {
   "cell_type": "code",
   "execution_count": 5,
   "metadata": {},
   "outputs": [
    {
     "data": {
      "text/html": [
       "<div>\n",
       "<style scoped>\n",
       "    .dataframe tbody tr th:only-of-type {\n",
       "        vertical-align: middle;\n",
       "    }\n",
       "\n",
       "    .dataframe tbody tr th {\n",
       "        vertical-align: top;\n",
       "    }\n",
       "\n",
       "    .dataframe thead th {\n",
       "        text-align: right;\n",
       "    }\n",
       "</style>\n",
       "<table border=\"1\" class=\"dataframe\">\n",
       "  <thead>\n",
       "    <tr style=\"text-align: right;\">\n",
       "      <th></th>\n",
       "      <th>sentiment</th>\n",
       "      <th>sentence</th>\n",
       "      <th>int_word_vector</th>\n",
       "    </tr>\n",
       "  </thead>\n",
       "  <tbody>\n",
       "    <tr>\n",
       "      <th>0</th>\n",
       "      <td>1</td>\n",
       "      <td>The Da Vinci Code book is just awesome.</td>\n",
       "      <td>None</td>\n",
       "    </tr>\n",
       "    <tr>\n",
       "      <th>1</th>\n",
       "      <td>1</td>\n",
       "      <td>this was the first clive cussler i've ever rea...</td>\n",
       "      <td>None</td>\n",
       "    </tr>\n",
       "    <tr>\n",
       "      <th>2</th>\n",
       "      <td>1</td>\n",
       "      <td>i liked the Da Vinci Code a lot.</td>\n",
       "      <td>None</td>\n",
       "    </tr>\n",
       "    <tr>\n",
       "      <th>3</th>\n",
       "      <td>1</td>\n",
       "      <td>i liked the Da Vinci Code a lot.</td>\n",
       "      <td>None</td>\n",
       "    </tr>\n",
       "    <tr>\n",
       "      <th>4</th>\n",
       "      <td>1</td>\n",
       "      <td>I liked the Da Vinci Code but it ultimatly did...</td>\n",
       "      <td>None</td>\n",
       "    </tr>\n",
       "  </tbody>\n",
       "</table>\n",
       "</div>"
      ],
      "text/plain": [
       "   sentiment                                           sentence  \\\n",
       "0          1            The Da Vinci Code book is just awesome.   \n",
       "1          1  this was the first clive cussler i've ever rea...   \n",
       "2          1                   i liked the Da Vinci Code a lot.   \n",
       "3          1                   i liked the Da Vinci Code a lot.   \n",
       "4          1  I liked the Da Vinci Code but it ultimatly did...   \n",
       "\n",
       "  int_word_vector  \n",
       "0            None  \n",
       "1            None  \n",
       "2            None  \n",
       "3            None  \n",
       "4            None  "
      ]
     },
     "execution_count": 5,
     "metadata": {},
     "output_type": "execute_result"
    }
   ],
   "source": [
    "# print initial rows of data\n",
    "train_df.head()"
   ]
  },
  {
   "cell_type": "code",
   "execution_count": 6,
   "metadata": {},
   "outputs": [
    {
     "data": {
      "text/html": [
       "<div>\n",
       "<style scoped>\n",
       "    .dataframe tbody tr th:only-of-type {\n",
       "        vertical-align: middle;\n",
       "    }\n",
       "\n",
       "    .dataframe tbody tr th {\n",
       "        vertical-align: top;\n",
       "    }\n",
       "\n",
       "    .dataframe thead th {\n",
       "        text-align: right;\n",
       "    }\n",
       "</style>\n",
       "<table border=\"1\" class=\"dataframe\">\n",
       "  <thead>\n",
       "    <tr style=\"text-align: right;\">\n",
       "      <th></th>\n",
       "      <th>sentiment</th>\n",
       "      <th>sentence</th>\n",
       "      <th>int_word_vector</th>\n",
       "    </tr>\n",
       "  </thead>\n",
       "  <tbody>\n",
       "    <tr>\n",
       "      <th>0</th>\n",
       "      <td>1</td>\n",
       "      <td>The Da Vinci Code book is just awesome.</td>\n",
       "      <td>[1, 2, 3, 4, 5, 6, 7, 8]</td>\n",
       "    </tr>\n",
       "    <tr>\n",
       "      <th>1</th>\n",
       "      <td>1</td>\n",
       "      <td>this was the first clive cussler i've ever rea...</td>\n",
       "      <td>[9, 10, 1, 11, 12, 13, 14, 15, 16, 17, 18, 19,...</td>\n",
       "    </tr>\n",
       "    <tr>\n",
       "      <th>2</th>\n",
       "      <td>1</td>\n",
       "      <td>i liked the Da Vinci Code a lot.</td>\n",
       "      <td>[27, 28, 1, 2, 3, 4, 29, 30]</td>\n",
       "    </tr>\n",
       "    <tr>\n",
       "      <th>3</th>\n",
       "      <td>1</td>\n",
       "      <td>i liked the Da Vinci Code a lot.</td>\n",
       "      <td>[27, 28, 1, 2, 3, 4, 29, 30]</td>\n",
       "    </tr>\n",
       "    <tr>\n",
       "      <th>4</th>\n",
       "      <td>1</td>\n",
       "      <td>I liked the Da Vinci Code but it ultimatly did...</td>\n",
       "      <td>[27, 28, 1, 2, 3, 4, 17, 31, 32, 33, 34, 35, 3...</td>\n",
       "    </tr>\n",
       "  </tbody>\n",
       "</table>\n",
       "</div>"
      ],
      "text/plain": [
       "   sentiment                                           sentence  \\\n",
       "0          1            The Da Vinci Code book is just awesome.   \n",
       "1          1  this was the first clive cussler i've ever rea...   \n",
       "2          1                   i liked the Da Vinci Code a lot.   \n",
       "3          1                   i liked the Da Vinci Code a lot.   \n",
       "4          1  I liked the Da Vinci Code but it ultimatly did...   \n",
       "\n",
       "                                     int_word_vector  \n",
       "0                           [1, 2, 3, 4, 5, 6, 7, 8]  \n",
       "1  [9, 10, 1, 11, 12, 13, 14, 15, 16, 17, 18, 19,...  \n",
       "2                       [27, 28, 1, 2, 3, 4, 29, 30]  \n",
       "3                       [27, 28, 1, 2, 3, 4, 29, 30]  \n",
       "4  [27, 28, 1, 2, 3, 4, 17, 31, 32, 33, 34, 35, 3...  "
      ]
     },
     "execution_count": 6,
     "metadata": {},
     "output_type": "execute_result"
    }
   ],
   "source": [
    "# Create a unique word index along with updated int_word_vector column\n",
    "\n",
    "def unique_word_index():\n",
    "    \n",
    "    words_list_dict = {}\n",
    "    i = 1\n",
    "    regex = re.compile('[^a-z]')\n",
    "\n",
    "    for index, row in train_df.iterrows():\n",
    "        int_word_vector = []\n",
    "        row_string = row['sentence']\n",
    "        words_list = row_string.lower().split()\n",
    "        \n",
    "        for word in words_list:\n",
    "            refined_word = regex.sub('', word)\n",
    "            if refined_word not in words_list_dict:\n",
    "                words_list_dict[refined_word] = i\n",
    "                i += 1 \n",
    "            int_word_vector.append(words_list_dict[refined_word])\n",
    "        \n",
    "        train_df.at[index, 'int_word_vector'] = int_word_vector\n",
    "    return words_list_dict\n",
    "\n",
    "words_list_dict = unique_word_index()\n",
    "train_df.head()"
   ]
  },
  {
   "cell_type": "code",
   "execution_count": 7,
   "metadata": {},
   "outputs": [
    {
     "name": "stdout",
     "output_type": "stream",
     "text": [
      "(6918, 3)\n"
     ]
    }
   ],
   "source": [
    "# Final shape of the dataframe\n",
    "print(train_df.shape)"
   ]
  },
  {
   "cell_type": "code",
   "execution_count": 8,
   "metadata": {},
   "outputs": [],
   "source": [
    "# Data and labels list\n",
    "data_list = list(train_df['int_word_vector'])\n",
    "labels_list = list(train_df['sentiment'])"
   ]
  },
  {
   "cell_type": "code",
   "execution_count": 9,
   "metadata": {},
   "outputs": [
    {
     "data": {
      "text/plain": [
       "2194"
      ]
     },
     "execution_count": 9,
     "metadata": {},
     "output_type": "execute_result"
    }
   ],
   "source": [
    "# Vocabulary size of the word list dictionary\n",
    "max([max(sequence) for sequence in data_list])"
   ]
  },
  {
   "cell_type": "code",
   "execution_count": 10,
   "metadata": {},
   "outputs": [],
   "source": [
    "# One hot encode the data\n",
    "def one_hot_encode(input_data, dimension=2195):\n",
    "    encoded_data = np.zeros((len(input_data), dimension))\n",
    "    for i, single_row in enumerate(input_data):\n",
    "        encoded_data[i, single_row] = 1.\n",
    "    return encoded_data\n",
    "\n",
    "X_data = one_hot_encode(data_list)"
   ]
  },
  {
   "cell_type": "code",
   "execution_count": 11,
   "metadata": {},
   "outputs": [
    {
     "data": {
      "text/plain": [
       "([1, 2, 3, 4, 5, 6, 7, 8],\n",
       " array([0., 1., 1., 1., 1., 1., 1., 1., 1., 0., 0., 0., 0., 0., 0., 0., 0.,\n",
       "        0., 0., 0.]))"
      ]
     },
     "execution_count": 11,
     "metadata": {},
     "output_type": "execute_result"
    }
   ],
   "source": [
    "# Sample df record check with one hot encoded list\n",
    "train_df['int_word_vector'][0], X_data[0][:20]"
   ]
  },
  {
   "cell_type": "code",
   "execution_count": 12,
   "metadata": {},
   "outputs": [],
   "source": [
    "# Vectorize labels\n",
    "y_labels = np.asarray(labels_list).astype('float32')"
   ]
  },
  {
   "cell_type": "code",
   "execution_count": 13,
   "metadata": {},
   "outputs": [
    {
     "data": {
      "text/plain": [
       "((6918, 2195), (6918,))"
      ]
     },
     "execution_count": 13,
     "metadata": {},
     "output_type": "execute_result"
    }
   ],
   "source": [
    "# Final input dataset shape\n",
    "X_data.shape, y_labels.shape"
   ]
  },
  {
   "cell_type": "code",
   "execution_count": 14,
   "metadata": {},
   "outputs": [
    {
     "name": "stdout",
     "output_type": "stream",
     "text": [
      "(5188, 2195) (1730, 2195) (5188,) (1730,)\n"
     ]
    }
   ],
   "source": [
    "# Shuffle and split the dataset\n",
    "import sklearn\n",
    "from sklearn.model_selection import train_test_split\n",
    "\n",
    "X_train, X_test, y_train, y_test = train_test_split(X_data, y_labels, random_state=42)\n",
    "\n",
    "print(X_train.shape, X_test.shape, y_train.shape, y_test.shape)"
   ]
  },
  {
   "cell_type": "code",
   "execution_count": 15,
   "metadata": {},
   "outputs": [],
   "source": [
    "# Define the model\n",
    "from keras import models\n",
    "from keras import layers\n",
    "from keras import losses\n",
    "from keras import metrics\n",
    "from keras import optimizers\n",
    "\n",
    "model = models.Sequential()\n",
    "model.add(layers.Dense(16, activation='relu', input_shape=(2195,)))\n",
    "model.add(layers.Dense(16, activation='relu'))\n",
    "model.add(layers.Dense(1, activation='sigmoid'))\n",
    "\n",
    "model.compile(optimizer=optimizers.RMSprop(lr=0.001),\n",
    "              loss=losses.binary_crossentropy,\n",
    "              metrics=[metrics.binary_accuracy])"
   ]
  },
  {
   "cell_type": "code",
   "execution_count": 16,
   "metadata": {},
   "outputs": [],
   "source": [
    "x_val = X_train[:1000]\n",
    "partial_x_train = X_train[1000:]\n",
    "\n",
    "y_val = y_train[:1000]\n",
    "partial_y_train = y_train[1000:]"
   ]
  },
  {
   "cell_type": "code",
   "execution_count": 17,
   "metadata": {},
   "outputs": [
    {
     "name": "stdout",
     "output_type": "stream",
     "text": [
      "Train on 4188 samples, validate on 1000 samples\n",
      "Epoch 1/20\n",
      "4188/4188 [==============================] - 0s 114us/step - loss: 0.5873 - binary_accuracy: 0.8035 - val_loss: 0.4776 - val_binary_accuracy: 0.9180\n",
      "Epoch 2/20\n",
      "4188/4188 [==============================] - 0s 58us/step - loss: 0.3934 - binary_accuracy: 0.9298 - val_loss: 0.2989 - val_binary_accuracy: 0.9610\n",
      "Epoch 3/20\n",
      "4188/4188 [==============================] - 0s 52us/step - loss: 0.2315 - binary_accuracy: 0.9773 - val_loss: 0.1729 - val_binary_accuracy: 0.9790\n",
      "Epoch 4/20\n",
      "4188/4188 [==============================] - 0s 58us/step - loss: 0.1252 - binary_accuracy: 0.9869 - val_loss: 0.0957 - val_binary_accuracy: 0.9830\n",
      "Epoch 5/20\n",
      "4188/4188 [==============================] - 0s 54us/step - loss: 0.0626 - binary_accuracy: 0.9928 - val_loss: 0.0551 - val_binary_accuracy: 0.9870\n",
      "Epoch 6/20\n",
      "4188/4188 [==============================] - 0s 49us/step - loss: 0.0311 - binary_accuracy: 0.9959 - val_loss: 0.0341 - val_binary_accuracy: 0.9880\n",
      "Epoch 7/20\n",
      "4188/4188 [==============================] - 0s 51us/step - loss: 0.0159 - binary_accuracy: 0.9974 - val_loss: 0.0239 - val_binary_accuracy: 0.9920\n",
      "Epoch 8/20\n",
      "4188/4188 [==============================] - 0s 48us/step - loss: 0.0083 - binary_accuracy: 0.9990 - val_loss: 0.0183 - val_binary_accuracy: 0.9930\n",
      "Epoch 9/20\n",
      "4188/4188 [==============================] - 0s 50us/step - loss: 0.0045 - binary_accuracy: 1.0000 - val_loss: 0.0190 - val_binary_accuracy: 0.9920\n",
      "Epoch 10/20\n",
      "4188/4188 [==============================] - 0s 50us/step - loss: 0.0027 - binary_accuracy: 0.9998 - val_loss: 0.0162 - val_binary_accuracy: 0.9930\n",
      "Epoch 11/20\n",
      "4188/4188 [==============================] - 0s 48us/step - loss: 0.0017 - binary_accuracy: 1.0000 - val_loss: 0.0147 - val_binary_accuracy: 0.9950\n",
      "Epoch 12/20\n",
      "4188/4188 [==============================] - 0s 47us/step - loss: 0.0011 - binary_accuracy: 1.0000 - val_loss: 0.0137 - val_binary_accuracy: 0.9950\n",
      "Epoch 13/20\n",
      "4188/4188 [==============================] - 0s 50us/step - loss: 6.6447e-04 - binary_accuracy: 1.0000 - val_loss: 0.0132 - val_binary_accuracy: 0.9950\n",
      "Epoch 14/20\n",
      "4188/4188 [==============================] - 0s 49us/step - loss: 3.6880e-04 - binary_accuracy: 1.0000 - val_loss: 0.0125 - val_binary_accuracy: 0.9960\n",
      "Epoch 15/20\n",
      "4188/4188 [==============================] - 0s 50us/step - loss: 2.5225e-04 - binary_accuracy: 1.0000 - val_loss: 0.0137 - val_binary_accuracy: 0.9950\n",
      "Epoch 16/20\n",
      "4188/4188 [==============================] - 0s 49us/step - loss: 1.5387e-04 - binary_accuracy: 1.0000 - val_loss: 0.0141 - val_binary_accuracy: 0.9950\n",
      "Epoch 17/20\n",
      "4188/4188 [==============================] - 0s 50us/step - loss: 9.3918e-05 - binary_accuracy: 1.0000 - val_loss: 0.0134 - val_binary_accuracy: 0.9960\n",
      "Epoch 18/20\n",
      "4188/4188 [==============================] - 0s 49us/step - loss: 5.8088e-05 - binary_accuracy: 1.0000 - val_loss: 0.0145 - val_binary_accuracy: 0.9950\n",
      "Epoch 19/20\n",
      "4188/4188 [==============================] - 0s 59us/step - loss: 3.7878e-05 - binary_accuracy: 1.0000 - val_loss: 0.0130 - val_binary_accuracy: 0.9960\n",
      "Epoch 20/20\n",
      "4188/4188 [==============================] - 0s 52us/step - loss: 2.2815e-05 - binary_accuracy: 1.0000 - val_loss: 0.0153 - val_binary_accuracy: 0.9950\n"
     ]
    }
   ],
   "source": [
    "history = model.fit(partial_x_train,\n",
    "                    partial_y_train,\n",
    "                    epochs=20,\n",
    "                    batch_size=128,\n",
    "                    validation_data=(x_val, y_val))"
   ]
  },
  {
   "cell_type": "code",
   "execution_count": 18,
   "metadata": {},
   "outputs": [
    {
     "data": {
      "text/plain": [
       "dict_keys(['val_loss', 'val_binary_accuracy', 'loss', 'binary_accuracy'])"
      ]
     },
     "execution_count": 18,
     "metadata": {},
     "output_type": "execute_result"
    }
   ],
   "source": [
    "history_dict = history.history\n",
    "history_dict.keys()"
   ]
  },
  {
   "cell_type": "code",
   "execution_count": 19,
   "metadata": {},
   "outputs": [
    {
     "data": {
      "image/png": "[encoded data removed]",
      "text/plain": [
       "<Figure size 432x288 with 1 Axes>"
      ]
     },
     "metadata": {},
     "output_type": "display_data"
    }
   ],
   "source": [
    "loss = history.history['loss']\n",
    "val_loss = history.history['val_loss']\n",
    "acc = history.history['binary_accuracy']\n",
    "val_acc = history.history['val_binary_accuracy']\n",
    "\n",
    "epochs = range(1, len(acc) + 1)\n",
    "\n",
    "plt.plot(epochs, loss, 'bo', label='Training loss')\n",
    "plt.plot(epochs, val_loss, 'b', label='Validation loss')\n",
    "plt.title('Training and Validation loss')\n",
    "plt.xlabel('Epochs')\n",
    "plt.ylabel('Loss')\n",
    "plt.legend()\n",
    "\n",
    "plt.show()\n"
   ]
  },
  {
   "cell_type": "code",
   "execution_count": 20,
   "metadata": {},
   "outputs": [
    {
     "data": {
      "image/png": "[encoded data removed]",
      "text/plain": [
       "<Figure size 432x288 with 1 Axes>"
      ]
     },
     "metadata": {},
     "output_type": "display_data"
    }
   ],
   "source": [
    "plt.plot(epochs, acc, 'bo', label='Training accuracy')\n",
    "plt.plot(epochs, val_acc, 'b', label='Validation accuracy')\n",
    "plt.title('Training and Validation loss')\n",
    "plt.xlabel('Epochs')\n",
    "plt.ylabel('Accuracy')\n",
    "plt.legend()\n",
    "\n",
    "plt.show()"
   ]
  },
  {
   "cell_type": "code",
   "execution_count": 21,
   "metadata": {},
   "outputs": [
    {
     "name": "stdout",
     "output_type": "stream",
     "text": [
      "Epoch 1/15\n",
      "5188/5188 [==============================] - 1s 113us/step - loss: 0.5882 - acc: 0.8967\n",
      "Epoch 2/15\n",
      "5188/5188 [==============================] - 0s 41us/step - loss: 0.3469 - acc: 0.9780\n",
      "Epoch 3/15\n",
      "5188/5188 [==============================] - 0s 41us/step - loss: 0.1689 - acc: 0.9863\n",
      "Epoch 4/15\n",
      "5188/5188 [==============================] - 0s 43us/step - loss: 0.0756 - acc: 0.9927\n",
      "Epoch 5/15\n",
      "5188/5188 [==============================] - 0s 43us/step - loss: 0.0330 - acc: 0.9963\n",
      "Epoch 6/15\n",
      "5188/5188 [==============================] - 0s 43us/step - loss: 0.0153 - acc: 0.9977\n",
      "Epoch 7/15\n",
      "5188/5188 [==============================] - 0s 42us/step - loss: 0.0078 - acc: 0.9985\n",
      "Epoch 8/15\n",
      "5188/5188 [==============================] - 0s 42us/step - loss: 0.0042 - acc: 0.9992\n",
      "Epoch 9/15\n",
      "5188/5188 [==============================] - 0s 47us/step - loss: 0.0024 - acc: 1.0000\n",
      "Epoch 10/15\n",
      "5188/5188 [==============================] - 0s 53us/step - loss: 0.0013 - acc: 1.0000\n",
      "Epoch 11/15\n",
      "5188/5188 [==============================] - 0s 45us/step - loss: 7.9648e-04 - acc: 1.0000\n",
      "Epoch 12/15\n",
      "5188/5188 [==============================] - 0s 44us/step - loss: 4.5893e-04 - acc: 1.0000\n",
      "Epoch 13/15\n",
      "5188/5188 [==============================] - 0s 44us/step - loss: 2.7330e-04 - acc: 1.0000\n",
      "Epoch 14/15\n",
      "5188/5188 [==============================] - 0s 43us/step - loss: 1.6317e-04 - acc: 1.0000\n",
      "Epoch 15/15\n",
      "5188/5188 [==============================] - 0s 43us/step - loss: 9.3101e-05 - acc: 1.0000\n",
      "1730/1730 [==============================] - 0s 59us/step\n"
     ]
    }
   ],
   "source": [
    "model = models.Sequential()\n",
    "model.add(layers.Dense(16, activation='relu', input_shape=(2195,)))\n",
    "model.add(layers.Dense(16, activation='relu'))\n",
    "model.add(layers.Dense(1, activation='sigmoid'))\n",
    "\n",
    "model.compile(optimizer='rmsprop',\n",
    "              loss='binary_crossentropy',\n",
    "              metrics=['accuracy'])\n",
    "\n",
    "model.fit(X_train, y_train, epochs=15, batch_size=128)\n",
    "results = model.evaluate(X_test, y_test)"
   ]
  },
  {
   "cell_type": "code",
   "execution_count": 22,
   "metadata": {},
   "outputs": [
    {
     "data": {
      "text/plain": [
       "[0.04151403600226962, 0.991907514450867]"
      ]
     },
     "execution_count": 22,
     "metadata": {},
     "output_type": "execute_result"
    }
   ],
   "source": [
    "results"
   ]
  },
  {
   "cell_type": "code",
   "execution_count": 23,
   "metadata": {},
   "outputs": [],
   "source": [
    "# Conclusion\n",
    "# 99.19 accuracy on test set limiting to 15 epochs on training set"
   ]
  }
 ],
 "metadata": {
  "kernelspec": {
   "display_name": "Python 3",
   "language": "python",
   "name": "python3"
  },
  "language_info": {
   "codemirror_mode": {
    "name": "ipython",
    "version": 3
   },
   "file_extension": ".py",
   "mimetype": "text/x-python",
   "name": "python",
   "nbconvert_exporter": "python",
   "pygments_lexer": "ipython3",
   "version": "3.6.5"
  }
 },
 "nbformat": 4,
 "nbformat_minor": 2
}
