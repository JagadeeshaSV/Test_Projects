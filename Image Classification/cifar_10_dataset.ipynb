{
 "cells": [
  {
   "cell_type": "code",
   "execution_count": 1,
   "metadata": {},
   "outputs": [],
   "source": [
    "def unpickle(file):\n",
    "    import pickle\n",
    "    with open(file, 'rb') as fo:\n",
    "        dict_one = pickle.load(fo, encoding='bytes')\n",
    "    return dict_one\n",
    "\n",
    "\n",
    "data_batch_1 = unpickle('cifar-10-python/cifar-10-batches-py/data_batch_1')"
   ]
  },
  {
   "cell_type": "code",
   "execution_count": 2,
   "metadata": {},
   "outputs": [
    {
     "data": {
      "text/plain": [
       "[b'batch_label', b'labels', b'data', b'filenames']"
      ]
     },
     "execution_count": 2,
     "metadata": {},
     "output_type": "execute_result"
    }
   ],
   "source": [
    "data_list_keys = list(data_batch_1.keys()); data_list_keys"
   ]
  },
  {
   "cell_type": "code",
   "execution_count": 3,
   "metadata": {},
   "outputs": [
    {
     "data": {
      "text/plain": [
       "(b'labels', b'data')"
      ]
     },
     "execution_count": 3,
     "metadata": {},
     "output_type": "execute_result"
    }
   ],
   "source": [
    "data_items = list(data_batch_1.items()); data_items[1][0], data_items[2][0]"
   ]
  },
  {
   "cell_type": "code",
   "execution_count": 4,
   "metadata": {},
   "outputs": [],
   "source": [
    "labels_list = data_items[1][1]"
   ]
  },
  {
   "cell_type": "code",
   "execution_count": 5,
   "metadata": {},
   "outputs": [
    {
     "data": {
      "text/plain": [
       "10000"
      ]
     },
     "execution_count": 5,
     "metadata": {},
     "output_type": "execute_result"
    }
   ],
   "source": [
    "len(labels_list)"
   ]
  },
  {
   "cell_type": "code",
   "execution_count": 6,
   "metadata": {},
   "outputs": [],
   "source": [
    "data_list = data_items[2][1]"
   ]
  },
  {
   "cell_type": "code",
   "execution_count": 7,
   "metadata": {},
   "outputs": [
    {
     "data": {
      "text/plain": [
       "10000"
      ]
     },
     "execution_count": 7,
     "metadata": {},
     "output_type": "execute_result"
    }
   ],
   "source": [
    "len(data_list)"
   ]
  },
  {
   "cell_type": "code",
   "execution_count": 8,
   "metadata": {},
   "outputs": [],
   "source": [
    "first_data_point = data_list[0]"
   ]
  },
  {
   "cell_type": "code",
   "execution_count": 9,
   "metadata": {},
   "outputs": [
    {
     "data": {
      "text/plain": [
       "(3072,)"
      ]
     },
     "execution_count": 9,
     "metadata": {},
     "output_type": "execute_result"
    }
   ],
   "source": [
    "first_data_point.shape"
   ]
  },
  {
   "cell_type": "code",
   "execution_count": 15,
   "metadata": {},
   "outputs": [],
   "source": [
    "import matplotlib.pyplot as plt\n",
    "import numpy as np\n",
    "import glob, os"
   ]
  },
  {
   "cell_type": "code",
   "execution_count": 11,
   "metadata": {},
   "outputs": [
    {
     "data": {
      "text/plain": [
       "(32, 32, 3)"
      ]
     },
     "execution_count": 11,
     "metadata": {},
     "output_type": "execute_result"
    }
   ],
   "source": [
    "single_img_reshaped = np.transpose(np.reshape(first_data_point,(3, 32, 32)), (1,2,0)); single_img_reshaped.shape"
   ]
  },
  {
   "cell_type": "code",
   "execution_count": 12,
   "metadata": {},
   "outputs": [
    {
     "data": {
      "text/plain": [
       "<matplotlib.image.AxesImage at 0x2718a7e31d0>"
      ]
     },
     "execution_count": 12,
     "metadata": {},
     "output_type": "execute_result"
    },
    {
     "data": {
      "image/png": "[encoded data removed]",
      "text/plain": [
       "<Figure size 432x288 with 1 Axes>"
      ]
     },
     "metadata": {},
     "output_type": "display_data"
    }
   ],
   "source": [
    "plt.imshow(single_img_reshaped)"
   ]
  },
  {
   "cell_type": "code",
   "execution_count": 91,
   "metadata": {},
   "outputs": [
    {
     "name": "stdout",
     "output_type": "stream",
     "text": [
      "Reading train file:  cifar-10-python/cifar-10-batches-py\\data_batch_1\n",
      "Reading train file:  cifar-10-python/cifar-10-batches-py\\data_batch_2\n",
      "Reading train file:  cifar-10-python/cifar-10-batches-py\\data_batch_3\n",
      "Reading train file:  cifar-10-python/cifar-10-batches-py\\data_batch_4\n",
      "Reading train file:  cifar-10-python/cifar-10-batches-py\\data_batch_5\n",
      "Reading test file:  cifar-10-python/cifar-10-batches-py\\data_batch_5\n",
      "(50000, 3072) (50000,) (10000, 3072) (10000,)\n"
     ]
    }
   ],
   "source": [
    "def data_read(files_path):\n",
    "    \n",
    "    \n",
    "    training_files = glob.glob(files_path + \"*data_batch*\")\n",
    "    training_files_data_list = []\n",
    "    training_files_labels_list = []\n",
    "    training_files_data_array_list = []\n",
    "    \n",
    "    test_files = glob.glob(files_path + \"*test_batch*\")\n",
    "    test_files_data_list = []\n",
    "    test_files_labels_list = []\n",
    "    test_files_data_array_list = []\n",
    "    \n",
    "    \n",
    "    for training_file_index, training_file in enumerate(training_files):\n",
    "        print(\"Reading train file: \", training_file)\n",
    "        data_batch = unpickle(training_file)\n",
    "        \n",
    "        data_items = list(data_batch.items())\n",
    "        labels_list = data_items[1][1]\n",
    "        data_list = data_items[2][1]\n",
    "        \n",
    "        training_files_data_list.append(data_list)\n",
    "        training_files_labels_list.append(labels_list)\n",
    "        \n",
    "        \n",
    "    for test_file_index, test_file in enumerate(test_files):\n",
    "        print(\"Reading test file: \", training_file)\n",
    "        data_batch = unpickle(test_file)\n",
    "        \n",
    "        data_items = list(data_batch.items())\n",
    "        labels_list = data_items[1][1]\n",
    "        data_list = data_items[2][1]\n",
    "        \n",
    "        test_files_data_list.append(data_list)\n",
    "        test_files_labels_list.append(labels_list)\n",
    "        \n",
    "    training_files_data_array = np.asarray(training_files_data_list).reshape((50000, 3072))\n",
    "    training_files_labels_array = np.asarray(training_files_labels_list).reshape((50000,))\n",
    "    \n",
    "    test_files_data_array = np.asarray(test_files_data_list).reshape((10000, 3072))\n",
    "    test_files_labels_array = np.asarray(test_files_labels_list).reshape((10000,))\n",
    "    \n",
    "    return training_files_data_array, training_files_labels_array, test_files_data_array, test_files_labels_array\n",
    "    \n",
    "    \n",
    "files_path = 'cifar-10-python/cifar-10-batches-py/'\n",
    "training_files_data_array, training_files_labels_array, test_files_data_array, test_files_labels_array = data_read(files_path)\n",
    "\n",
    "print(training_files_data_array.shape, training_files_labels_array.shape,\n",
    "      test_files_data_array.shape, test_files_labels_array.shape)"
   ]
  },
  {
   "cell_type": "code",
   "execution_count": 90,
   "metadata": {},
   "outputs": [
    {
     "data": {
      "text/plain": [
       "<matplotlib.image.AxesImage at 0x2718ce11b38>"
      ]
     },
     "execution_count": 90,
     "metadata": {},
     "output_type": "execute_result"
    },
    {
     "data": {
      "image/png": "[encoded data removed]",
      "text/plain": [
       "<Figure size 432x288 with 1 Axes>"
      ]
     },
     "metadata": {},
     "output_type": "display_data"
    }
   ],
   "source": [
    "single_img = np.transpose(np.reshape(test_files_data_array[0],(3, 32, 32)), (1,2,0)); single_img.shape\n",
    "plt.imshow(single_img)"
   ]
  },
  {
   "cell_type": "code",
   "execution_count": 93,
   "metadata": {},
   "outputs": [],
   "source": [
    "from keras import models\n",
    "from keras import layers\n",
    "\n",
    "network = models.Sequential()\n",
    "network.add(layers.Dense(512, activation='relu', input_shape=(3072,)))\n",
    "network.add(layers.Dense(10, activation='softmax'))"
   ]
  },
  {
   "cell_type": "code",
   "execution_count": 94,
   "metadata": {},
   "outputs": [],
   "source": [
    "network.compile(optimizer='rmsprop',\n",
    "                loss='categorical_crossentropy',\n",
    "                metrics=['accuracy'])"
   ]
  },
  {
   "cell_type": "code",
   "execution_count": 95,
   "metadata": {},
   "outputs": [],
   "source": [
    "train_images = training_files_data_array.astype('float32') / 255\n",
    "test_images = test_files_data_array.astype('float32') / 255"
   ]
  },
  {
   "cell_type": "code",
   "execution_count": 96,
   "metadata": {},
   "outputs": [],
   "source": [
    "from keras.utils import to_categorical\n",
    "\n",
    "train_labels = to_categorical(training_files_labels_array)\n",
    "test_labels = to_categorical(test_files_labels_array)"
   ]
  },
  {
   "cell_type": "code",
   "execution_count": 97,
   "metadata": {},
   "outputs": [
    {
     "name": "stdout",
     "output_type": "stream",
     "text": [
      "Epoch 1/5\n",
      "50000/50000 [==============================] - 18s 364us/step - loss: 3.1239 - acc: 0.2344\n",
      "Epoch 2/5\n",
      "50000/50000 [==============================] - 18s 359us/step - loss: 1.8285 - acc: 0.3464\n",
      "Epoch 3/5\n",
      "50000/50000 [==============================] - 19s 371us/step - loss: 1.7280 - acc: 0.3829\n",
      "Epoch 4/5\n",
      "50000/50000 [==============================] - 18s 367us/step - loss: 1.6661 - acc: 0.40751s - loss\n",
      "Epoch 5/5\n",
      "50000/50000 [==============================] - 18s 361us/step - loss: 1.6209 - acc: 0.4269\n"
     ]
    },
    {
     "data": {
      "text/plain": [
       "<keras.callbacks.History at 0x27196125e10>"
      ]
     },
     "execution_count": 97,
     "metadata": {},
     "output_type": "execute_result"
    }
   ],
   "source": [
    "network.fit(train_images, train_labels, epochs=5, batch_size=128)"
   ]
  },
  {
   "cell_type": "code",
   "execution_count": 98,
   "metadata": {},
   "outputs": [
    {
     "name": "stdout",
     "output_type": "stream",
     "text": [
      "10000/10000 [==============================] - 1s 144us/step\n"
     ]
    }
   ],
   "source": [
    "test_loss, test_acc = network.evaluate(test_images, test_labels)"
   ]
  },
  {
   "cell_type": "code",
   "execution_count": 99,
   "metadata": {},
   "outputs": [
    {
     "name": "stdout",
     "output_type": "stream",
     "text": [
      "test_acc: 0.3849\n"
     ]
    }
   ],
   "source": [
    "print('test_acc:', test_acc)"
   ]
  },
  {
   "cell_type": "code",
   "execution_count": 100,
   "metadata": {},
   "outputs": [
    {
     "name": "stdout",
     "output_type": "stream",
     "text": [
      "Epoch 1/10\n",
      "50000/50000 [==============================] - 18s 351us/step - loss: 3.0606 - acc: 0.2424\n",
      "Epoch 2/10\n",
      "50000/50000 [==============================] - 18s 353us/step - loss: 1.8287 - acc: 0.3461\n",
      "Epoch 3/10\n",
      "50000/50000 [==============================] - 19s 372us/step - loss: 1.7243 - acc: 0.3872\n",
      "Epoch 4/10\n",
      "50000/50000 [==============================] - 17s 338us/step - loss: 1.6668 - acc: 0.4109\n",
      "Epoch 5/10\n",
      "50000/50000 [==============================] - 17s 339us/step - loss: 1.6203 - acc: 0.4262\n",
      "Epoch 6/10\n",
      "50000/50000 [==============================] - 17s 344us/step - loss: 1.5911 - acc: 0.4364\n",
      "Epoch 7/10\n",
      "50000/50000 [==============================] - 18s 362us/step - loss: 1.5634 - acc: 0.4490\n",
      "Epoch 8/10\n",
      "50000/50000 [==============================] - 17s 343us/step - loss: 1.5379 - acc: 0.4570\n",
      "Epoch 9/10\n",
      "50000/50000 [==============================] - 17s 337us/step - loss: 1.5248 - acc: 0.4620\n",
      "Epoch 10/10\n",
      "50000/50000 [==============================] - 17s 343us/step - loss: 1.5027 - acc: 0.4695\n",
      "10000/10000 [==============================] - 2s 164us/step\n",
      "test_acc: 0.4575\n"
     ]
    }
   ],
   "source": [
    "# Imporovisation on base model \n",
    "# Test 1\n",
    "\n",
    "from keras import models\n",
    "from keras import layers\n",
    "\n",
    "network_1 = models.Sequential()\n",
    "network_1.add(layers.Dense(512, activation='relu', input_shape=(3072,)))\n",
    "network_1.add(layers.Dense(10, activation='softmax'))\n",
    "\n",
    "network_1.compile(optimizer='rmsprop',\n",
    "                loss='categorical_crossentropy',\n",
    "                metrics=['accuracy'])\n",
    "\n",
    "network_1.fit(train_images, train_labels, epochs=10, batch_size=128)\n",
    "\n",
    "test_loss_1, test_acc_1 = network_1.evaluate(test_images, test_labels)\n",
    "\n",
    "print('test_acc:', test_acc_1)"
   ]
  },
  {
   "cell_type": "code",
   "execution_count": 102,
   "metadata": {},
   "outputs": [
    {
     "name": "stdout",
     "output_type": "stream",
     "text": [
      "Epoch 1/10\n",
      "50000/50000 [==============================] - 35s 702us/step - loss: 6.4719 - acc: 0.1781\n",
      "Epoch 2/10\n",
      "50000/50000 [==============================] - 35s 700us/step - loss: 1.8853 - acc: 0.3230\n",
      "Epoch 3/10\n",
      "50000/50000 [==============================] - 36s 714us/step - loss: 1.7431 - acc: 0.3775\n",
      "Epoch 4/10\n",
      "50000/50000 [==============================] - 34s 676us/step - loss: 1.6712 - acc: 0.4083\n",
      "Epoch 5/10\n",
      "50000/50000 [==============================] - 32s 648us/step - loss: 1.6216 - acc: 0.4247\n",
      "Epoch 6/10\n",
      "50000/50000 [==============================] - 32s 645us/step - loss: 1.5849 - acc: 0.4371\n",
      "Epoch 7/10\n",
      "50000/50000 [==============================] - 33s 651us/step - loss: 1.5574 - acc: 0.4492\n",
      "Epoch 8/10\n",
      "50000/50000 [==============================] - 32s 646us/step - loss: 1.5258 - acc: 0.4613\n",
      "Epoch 9/10\n",
      "50000/50000 [==============================] - 32s 647us/step - loss: 1.5071 - acc: 0.4679\n",
      "Epoch 10/10\n",
      "50000/50000 [==============================] - 33s 656us/step - loss: 1.4844 - acc: 0.4755\n",
      "10000/10000 [==============================] - 3s 291us/step\n",
      "test_acc: 0.4475\n"
     ]
    }
   ],
   "source": [
    "# Imporovisation on base model \n",
    "# Test 2\n",
    "\n",
    "from keras import models\n",
    "from keras import layers\n",
    "\n",
    "network_2 = models.Sequential()\n",
    "network_2.add(layers.Dense(1024, activation='relu', input_shape=(3072,)))\n",
    "network_2.add(layers.Dense(10, activation='softmax'))\n",
    "\n",
    "network_2.compile(optimizer='rmsprop',\n",
    "                loss='categorical_crossentropy',\n",
    "                metrics=['accuracy'])\n",
    "\n",
    "network_2.fit(train_images, train_labels, epochs=10, batch_size=128)\n",
    "\n",
    "test_loss_2, test_acc_2 = network_2.evaluate(test_images, test_labels)\n",
    "\n",
    "print('test_acc:', test_acc_2)"
   ]
  },
  {
   "cell_type": "code",
   "execution_count": 103,
   "metadata": {},
   "outputs": [
    {
     "name": "stdout",
     "output_type": "stream",
     "text": [
      "Epoch 1/20\n",
      "50000/50000 [==============================] - 18s 367us/step - loss: 2.7535 - acc: 0.2428\n",
      "Epoch 2/20\n",
      "50000/50000 [==============================] - 17s 336us/step - loss: 1.8184 - acc: 0.3471\n",
      "Epoch 3/20\n",
      "50000/50000 [==============================] - 17s 336us/step - loss: 1.7201 - acc: 0.38770s - loss: 1.7232 -\n",
      "Epoch 4/20\n",
      "50000/50000 [==============================] - 17s 339us/step - loss: 1.6628 - acc: 0.4116\n",
      "Epoch 5/20\n",
      "50000/50000 [==============================] - 17s 344us/step - loss: 1.6256 - acc: 0.4276\n",
      "Epoch 6/20\n",
      "50000/50000 [==============================] - 17s 339us/step - loss: 1.5909 - acc: 0.4377\n",
      "Epoch 7/20\n",
      "50000/50000 [==============================] - 17s 339us/step - loss: 1.5626 - acc: 0.4489\n",
      "Epoch 8/20\n",
      "50000/50000 [==============================] - 17s 341us/step - loss: 1.5361 - acc: 0.4597\n",
      "Epoch 9/20\n",
      "50000/50000 [==============================] - 17s 340us/step - loss: 1.5188 - acc: 0.4643\n",
      "Epoch 10/20\n",
      "50000/50000 [==============================] - 17s 334us/step - loss: 1.4975 - acc: 0.4708\n",
      "Epoch 11/20\n",
      "50000/50000 [==============================] - 17s 335us/step - loss: 1.4852 - acc: 0.4776\n",
      "Epoch 12/20\n",
      "50000/50000 [==============================] - 17s 341us/step - loss: 1.4719 - acc: 0.4808\n",
      "Epoch 13/20\n",
      "50000/50000 [==============================] - 17s 334us/step - loss: 1.4589 - acc: 0.4844\n",
      "Epoch 14/20\n",
      "50000/50000 [==============================] - 17s 337us/step - loss: 1.4452 - acc: 0.4896\n",
      "Epoch 15/20\n",
      "50000/50000 [==============================] - 17s 336us/step - loss: 1.4336 - acc: 0.4951\n",
      "Epoch 16/20\n",
      "50000/50000 [==============================] - 17s 344us/step - loss: 1.4222 - acc: 0.5002\n",
      "Epoch 17/20\n",
      "50000/50000 [==============================] - 17s 341us/step - loss: 1.4148 - acc: 0.5026\n",
      "Epoch 18/20\n",
      "50000/50000 [==============================] - 17s 339us/step - loss: 1.4024 - acc: 0.5081\n",
      "Epoch 19/20\n",
      "50000/50000 [==============================] - 17s 340us/step - loss: 1.3910 - acc: 0.5126\n",
      "Epoch 20/20\n",
      "50000/50000 [==============================] - 17s 344us/step - loss: 1.3843 - acc: 0.5140\n",
      "10000/10000 [==============================] - 1s 149us/step\n",
      "test_acc: 0.4685\n"
     ]
    }
   ],
   "source": [
    "# Imporovisation on base model \n",
    "# Test 3\n",
    "\n",
    "from keras import models\n",
    "from keras import layers\n",
    "\n",
    "network_3 = models.Sequential()\n",
    "network_3.add(layers.Dense(512, activation='relu', input_shape=(3072,)))\n",
    "network_3.add(layers.Dense(10, activation='softmax'))\n",
    "\n",
    "network_3.compile(optimizer='rmsprop',\n",
    "                loss='categorical_crossentropy',\n",
    "                metrics=['accuracy'])\n",
    "\n",
    "network_3.fit(train_images, train_labels, epochs=20, batch_size=128)\n",
    "\n",
    "test_loss_3, test_acc_3 = network_3.evaluate(test_images, test_labels)\n",
    "\n",
    "print('test_acc:', test_acc_3)"
   ]
  },
  {
   "cell_type": "code",
   "execution_count": null,
   "metadata": {},
   "outputs": [],
   "source": []
  }
 ],
 "metadata": {
  "kernelspec": {
   "display_name": "Python 3",
   "language": "python",
   "name": "python3"
  },
  "language_info": {
   "codemirror_mode": {
    "name": "ipython",
    "version": 3
   },
   "file_extension": ".py",
   "mimetype": "text/x-python",
   "name": "python",
   "nbconvert_exporter": "python",
   "pygments_lexer": "ipython3",
   "version": "3.6.5"
  }
 },
 "nbformat": 4,
 "nbformat_minor": 2
}
